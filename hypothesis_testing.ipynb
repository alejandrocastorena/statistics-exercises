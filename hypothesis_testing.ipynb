{
 "cells": [
  {
   "cell_type": "code",
   "execution_count": null,
   "id": "f28cf009",
   "metadata": {},
   "outputs": [],
   "source": [
    "### COMPARING MEANS ###"
   ]
  },
  {
   "cell_type": "code",
   "execution_count": null,
   "id": "246ac875",
   "metadata": {},
   "outputs": [],
   "source": [
    "from math import sqrt\n",
    "from scipy import stats\n",
    "import matplotlib.pyplot as plt\n",
    "import numpy as np\n",
    "import pandas as pd\n",
    "from pydataset import data\n",
    "import statistics\n",
    "def get_db_url(db):\n",
    "    from env import username, password, host\n",
    "    return f'mysql+pymysql://{username}:{password}@{host}/{db}'\n",
    "url = get_db_url(\"telco_churn\")\n",
    "url2 = get_db_url(\"employees\")\n",
    "alpha = 0.05"
   ]
  },
  {
   "cell_type": "code",
   "execution_count": null,
   "id": "8518df8e",
   "metadata": {},
   "outputs": [],
   "source": [
    "# Answer with the type of test you would use (assume normal distribution):"
   ]
  },
  {
   "cell_type": "code",
   "execution_count": null,
   "id": "0e64c440",
   "metadata": {},
   "outputs": [],
   "source": [
    "# Is there a difference in grades of students on the second floor compared to grades of all students?"
   ]
  },
  {
   "cell_type": "code",
   "execution_count": null,
   "id": "0c34fc96",
   "metadata": {},
   "outputs": [],
   "source": [
    "# One sample T-Test"
   ]
  },
  {
   "cell_type": "code",
   "execution_count": null,
   "id": "bae2764d",
   "metadata": {},
   "outputs": [],
   "source": [
    "# Are adults who drink milk taller than adults who dont drink milk?"
   ]
  },
  {
   "cell_type": "code",
   "execution_count": null,
   "id": "9c78e496",
   "metadata": {},
   "outputs": [],
   "source": [
    "# Independent T-Test"
   ]
  },
  {
   "cell_type": "code",
   "execution_count": null,
   "id": "302cc01f",
   "metadata": {},
   "outputs": [],
   "source": [
    "# Is the the price of gas higher in texas or in new mexico?"
   ]
  },
  {
   "cell_type": "code",
   "execution_count": null,
   "id": "90493000",
   "metadata": {},
   "outputs": [],
   "source": [
    "# Independent T-Test"
   ]
  },
  {
   "cell_type": "code",
   "execution_count": null,
   "id": "cbd97130",
   "metadata": {},
   "outputs": [],
   "source": [
    "# Are there differences in stress levels between students who take data science vs students who take web development vs students who take cloud academy?"
   ]
  },
  {
   "cell_type": "code",
   "execution_count": null,
   "id": "15856337",
   "metadata": {},
   "outputs": [],
   "source": [
    "# ANOVA Test"
   ]
  },
  {
   "cell_type": "code",
   "execution_count": null,
   "id": "f27a1843",
   "metadata": {},
   "outputs": [],
   "source": [
    "# Ace Realty wants to determine whether the average time it takes to sell homes is different for its two offices.\n",
    "# A sample of 40 sales from office #1 revealed a mean of 90 days and a standard deviation of 15 days.\n",
    "# A sample of 50 sales from office #2 revealed a mean of 100 days and a standard deviation of 20 days.\n",
    "# Use a .05 level of significance."
   ]
  },
  {
   "cell_type": "code",
   "execution_count": null,
   "id": "2bbe706e",
   "metadata": {},
   "outputs": [],
   "source": [
    "office_1 = stats.norm(90, 15).rvs(40)\n",
    "office_2 = stats.norm(100, 20).rvs(50)"
   ]
  },
  {
   "cell_type": "code",
   "execution_count": null,
   "id": "a61196a2",
   "metadata": {},
   "outputs": [],
   "source": [
    "stat, p_val = stats.levene(office_1, office_2)\n",
    "\n",
    "if p_val < 0.05:\n",
    "    print('We can reject H0 ==> inequal variance')\n",
    "    equal_var = False\n",
    "else:\n",
    "    print('We fail to reject H0 ==> equal variance')\n",
    "    equal_var = True"
   ]
  },
  {
   "cell_type": "code",
   "execution_count": null,
   "id": "ad944a0f",
   "metadata": {},
   "outputs": [],
   "source": [
    "α = 0.05\n",
    "\n",
    "t_stat, p_val = stats.ttest_ind(office_1, office_2, equal_var=equal_var)\n",
    "print(f't-stat: {t_stat}')\n",
    "print(f'p-value: {p_val}')"
   ]
  },
  {
   "cell_type": "code",
   "execution_count": null,
   "id": "482b09e8",
   "metadata": {},
   "outputs": [],
   "source": [
    "print(f'''\n",
    "p-value ({p_val}) is less than alpha value ({α}), we reject the null hypothesis''')"
   ]
  },
  {
   "cell_type": "code",
   "execution_count": null,
   "id": "9b7271db",
   "metadata": {},
   "outputs": [],
   "source": [
    "# Load the mpg dataset and use it to answer the following questions:"
   ]
  },
  {
   "cell_type": "code",
   "execution_count": null,
   "id": "a27b0b61",
   "metadata": {},
   "outputs": [],
   "source": [
    "mpg = data('mpg')"
   ]
  },
  {
   "cell_type": "code",
   "execution_count": null,
   "id": "5fa177c1",
   "metadata": {},
   "outputs": [],
   "source": [
    "# Is there a difference in fuel-efficiency in cars from 2008 vs 1999?"
   ]
  },
  {
   "cell_type": "code",
   "execution_count": null,
   "id": "4faad355",
   "metadata": {},
   "outputs": [],
   "source": [
    "mpg['avg_fe'] = stats.hmean(mpg[['cty', 'hwy']], axis =1)\n",
    "\n",
    "fe_2008 = mpg[mpg.year == 2008].avg_fe\n",
    "fe_1999 = mpg[mpg.year == 1999].avg_fe\n",
    "stats.levene(fe_2008, fe_1999)\n",
    "\n",
    "t, p = stats.ttest_ind(fe_2008, fe_1999)\n",
    "t, p"
   ]
  },
  {
   "cell_type": "code",
   "execution_count": null,
   "id": "fe09d40f",
   "metadata": {},
   "outputs": [],
   "source": [
    "# Are compact cars more fuel-efficient than the average car?"
   ]
  },
  {
   "cell_type": "code",
   "execution_count": null,
   "id": "ff17acc5",
   "metadata": {},
   "outputs": [],
   "source": [
    "fe_compact = mpg[mpg['class'] == 'compact'].avg_fe\n",
    "μ = mpg.avg_fe.mean()"
   ]
  },
  {
   "cell_type": "code",
   "execution_count": null,
   "id": "1ebf0e2b",
   "metadata": {},
   "outputs": [],
   "source": [
    "t, p = stats.ttest_1samp(fe_compact, μ)\n",
    "t, p/2, alpha"
   ]
  },
  {
   "cell_type": "code",
   "execution_count": null,
   "id": "3cdf6c4d",
   "metadata": {},
   "outputs": [],
   "source": [
    "print(f'''p/2 ({p/2:.11f}) < alpha (.05) and t > 0, we reject the null hypothesis.''')"
   ]
  },
  {
   "cell_type": "code",
   "execution_count": null,
   "id": "635ab9b0",
   "metadata": {},
   "outputs": [],
   "source": [
    "# Do manual cars get better gas mileage than automatic cars?"
   ]
  },
  {
   "cell_type": "code",
   "execution_count": null,
   "id": "e483e788",
   "metadata": {},
   "outputs": [],
   "source": [
    "fe_auto = mpg[mpg.trans.str.contains('auto')].avg_fe\n",
    "fe_manual = mpg[mpg.trans.str.contains('manual')].avg_fe"
   ]
  },
  {
   "cell_type": "code",
   "execution_count": null,
   "id": "bcf29e85",
   "metadata": {},
   "outputs": [],
   "source": [
    "stats.levene(fe_auto, fe_manual)"
   ]
  },
  {
   "cell_type": "code",
   "execution_count": null,
   "id": "1d1ebdcd",
   "metadata": {},
   "outputs": [],
   "source": [
    "t, p = stats.ttest_ind(fe_manual, fe_auto, equal_var = True)\n",
    "t, p/2, alpha"
   ]
  },
  {
   "cell_type": "code",
   "execution_count": null,
   "id": "e888daaa",
   "metadata": {},
   "outputs": [],
   "source": [
    "### CORRELATION ###"
   ]
  },
  {
   "cell_type": "code",
   "execution_count": null,
   "id": "c2e6edae",
   "metadata": {},
   "outputs": [],
   "source": [
    "# Is there a relationship between the length of your arm and the length of your foot?"
   ]
  },
  {
   "cell_type": "code",
   "execution_count": null,
   "id": "a4e587cf",
   "metadata": {},
   "outputs": [],
   "source": [
    "# Independent T test"
   ]
  },
  {
   "cell_type": "code",
   "execution_count": null,
   "id": "29c13e80",
   "metadata": {},
   "outputs": [],
   "source": [
    "# Do guys and gals quit their jobs at the same rate?"
   ]
  },
  {
   "cell_type": "code",
   "execution_count": null,
   "id": "0a323e6f",
   "metadata": {},
   "outputs": [],
   "source": [
    "# Independent T test"
   ]
  },
  {
   "cell_type": "code",
   "execution_count": null,
   "id": "9019e6bc",
   "metadata": {},
   "outputs": [],
   "source": [
    "# Does the length of time of the lecture correlate with a students grade?"
   ]
  },
  {
   "cell_type": "code",
   "execution_count": null,
   "id": "70e751ca",
   "metadata": {},
   "outputs": [],
   "source": [
    "# Sample T Test"
   ]
  },
  {
   "cell_type": "code",
   "execution_count": null,
   "id": "0fb0ee99",
   "metadata": {},
   "outputs": [],
   "source": [
    "# Use the telco_churn data"
   ]
  },
  {
   "cell_type": "code",
   "execution_count": null,
   "id": "37ace37e",
   "metadata": {},
   "outputs": [],
   "source": [
    "# Does tenure correlate with monthly charges?"
   ]
  },
  {
   "cell_type": "code",
   "execution_count": null,
   "id": "b907cfaf",
   "metadata": {},
   "outputs": [],
   "source": [
    "confidence_level = 0.95\n",
    "alpha = 1 - confidence_level\n",
    "alpha"
   ]
  },
  {
   "cell_type": "code",
   "execution_count": null,
   "id": "02222da9",
   "metadata": {},
   "outputs": [],
   "source": [
    "sql = \"\"\"\n",
    "select *\n",
    "from telco_churn \"\"\"\n",
    "df = pd.read_sql(sql, url)"
   ]
  },
  {
   "cell_type": "code",
   "execution_count": null,
   "id": "73c0a0a8",
   "metadata": {},
   "outputs": [],
   "source": [
    "corr, p = stats.pearsonr(df.tenure_month, df.monthly_charges)\n",
    "\n",
    "if p < alpha:\n",
    "    print(\"We reject the null hypothesis\")\n",
    "else:\n",
    "    print(\"We fail to reject the null hypothesis\")\n",
    "    \n",
    "corr, p"
   ]
  },
  {
   "cell_type": "code",
   "execution_count": null,
   "id": "df1a9238",
   "metadata": {},
   "outputs": [],
   "source": [
    "# Total charges?"
   ]
  },
  {
   "cell_type": "code",
   "execution_count": null,
   "id": "fdb62718",
   "metadata": {},
   "outputs": [],
   "source": [
    "corr, p = stats.pearsonr(df.tenure_month, df.total_charges)\n",
    "\n",
    "if p < alpha:\n",
    "    print(\"We reject the null hypothesis\")\n",
    "else:\n",
    "    print(\"We fail to reject the null hypothesis\")\n",
    "    \n",
    "corr, p"
   ]
  },
  {
   "cell_type": "code",
   "execution_count": null,
   "id": "d4e99f8a",
   "metadata": {},
   "outputs": [],
   "source": [
    "# What happens if you control for phone and internet service?"
   ]
  },
  {
   "cell_type": "code",
   "execution_count": null,
   "id": "24129182",
   "metadata": {},
   "outputs": [],
   "source": [
    "df[\"telecom_setup\"] = df.internet_type + \" \" + df.phone_type\n",
    "options = df.telecom_setup.value_counts().index\n",
    "\n",
    "output = []\n",
    "\n",
    "for option in options:\n",
    "    subset = df[df.telecom_setup == option]\n",
    "    corr, p, message = correlation_test(subset.tenure_month, subset.monthly_charges)\n",
    "    result = {\n",
    "        \"option\": option,\n",
    "        \"correlation\": corr,\n",
    "        \"p\": p,\n",
    "        \"message\": message\n",
    "    }\n",
    "    output.append(result)\n",
    "\n",
    "print(\"Correlation test for tenure vs. monthly_charges, controling for Internet/Phone service\")\n",
    "pd.DataFrame(output)"
   ]
  },
  {
   "cell_type": "code",
   "execution_count": null,
   "id": "4b7be1ed",
   "metadata": {},
   "outputs": [],
   "source": [
    "# Is there a relationship between how long an employee has been with the company and their salary?"
   ]
  },
  {
   "cell_type": "code",
   "execution_count": null,
   "id": "c6935422",
   "metadata": {},
   "outputs": [],
   "source": [
    "sql2 = \"\"\"\n",
    "select datediff(curdate(), hire_date) as days_on_job, salary\n",
    "from employees\n",
    "join salaries using(emp_no)\n",
    "where to_date > curdate();\n",
    "\"\"\""
   ]
  },
  {
   "cell_type": "code",
   "execution_count": null,
   "id": "26d2dcf5",
   "metadata": {},
   "outputs": [],
   "source": [
    "df2 = pd.read_sql(sql2, url2)\n",
    "df2"
   ]
  },
  {
   "cell_type": "code",
   "execution_count": null,
   "id": "369ea204",
   "metadata": {},
   "outputs": [],
   "source": [
    "alpha = 0.05\n",
    "corr, p = stats.pearsonr(df2.days_on_job, df2.salary)\n",
    "\n",
    "if p < alpha:\n",
    "    print(\"reject null hypothesis\")\n",
    "    print(\"Evidence supports that there is a linear correlation\")\n",
    "else:\n",
    "    print(\"Failed reject the null hypothesis\")\n",
    "\n",
    "corr, p"
   ]
  },
  {
   "cell_type": "code",
   "execution_count": null,
   "id": "e55b487f",
   "metadata": {},
   "outputs": [],
   "source": [
    "# Is there a relationship between how long an employee has been with the company and the number of titles they have had?"
   ]
  },
  {
   "cell_type": "code",
   "execution_count": null,
   "id": "ae32c294",
   "metadata": {},
   "outputs": [],
   "source": [
    "sql3 = \"\"\"\n",
    "select emp_no, count(title) as title_count, datediff(curdate(), hire_date) as days_on_job\n",
    "from employees\n",
    "join titles using(emp_no)\n",
    "group by emp_no;\n",
    "\"\"\"\n",
    "df3 = pd.read_sql(sql3, url2)\n",
    "df3.head()"
   ]
  },
  {
   "cell_type": "code",
   "execution_count": null,
   "id": "49747418",
   "metadata": {},
   "outputs": [],
   "source": [
    "corr, p = stats.pearsonr(df3.days_on_job, df3.title_count)\n",
    "\n",
    "if p < alpha:\n",
    "    print(\"Reject null hypothesis\")\n",
    "else:\n",
    "    print(\"Failed reject the null hypothesis\")\n",
    "\n",
    "corr, p"
   ]
  },
  {
   "cell_type": "code",
   "execution_count": null,
   "id": "62f7de89",
   "metadata": {},
   "outputs": [],
   "source": [
    "# Is there a relationship between days and reaction time?"
   ]
  },
  {
   "cell_type": "code",
   "execution_count": null,
   "id": "e45642e1",
   "metadata": {},
   "outputs": [],
   "source": [
    "from pydataset import data\n",
    "df4 = data(\"sleepstudy\")"
   ]
  },
  {
   "cell_type": "code",
   "execution_count": null,
   "id": "b2856b6e",
   "metadata": {},
   "outputs": [],
   "source": [
    "corr, p = stats.pearsonr(df4.Days, df4.Reaction)\n",
    "\n",
    "if p < alpha:\n",
    "    print(\"Reject null hypothesis\")\n",
    "else:\n",
    "    print(\"Failed to reject the null hypothesis\")\n",
    "\n",
    "corr, p"
   ]
  },
  {
   "cell_type": "code",
   "execution_count": null,
   "id": "79508f87",
   "metadata": {},
   "outputs": [],
   "source": [
    "### COMPARISON OF GROUPS ###"
   ]
  },
  {
   "cell_type": "code",
   "execution_count": null,
   "id": "948d36ad",
   "metadata": {},
   "outputs": [],
   "source": [
    "# Do students get better test grades if they have a rubber duck on their desk?"
   ]
  },
  {
   "cell_type": "code",
   "execution_count": null,
   "id": "27eb3d12",
   "metadata": {},
   "outputs": [],
   "source": [
    "# Sample T Test"
   ]
  },
  {
   "cell_type": "code",
   "execution_count": null,
   "id": "17bf601a",
   "metadata": {},
   "outputs": [],
   "source": [
    "# Does smoking affect when or not someone has lung cancer?"
   ]
  },
  {
   "cell_type": "code",
   "execution_count": null,
   "id": "95c5dd97",
   "metadata": {},
   "outputs": [],
   "source": [
    "# Independent T Test"
   ]
  },
  {
   "cell_type": "code",
   "execution_count": null,
   "id": "25fcd5d7",
   "metadata": {},
   "outputs": [],
   "source": [
    "# Is gender independent of a person’s blood type?"
   ]
  },
  {
   "cell_type": "code",
   "execution_count": null,
   "id": "5d0de1e5",
   "metadata": {},
   "outputs": [],
   "source": [
    "# Independent T Test"
   ]
  },
  {
   "cell_type": "code",
   "execution_count": null,
   "id": "96d91173",
   "metadata": {},
   "outputs": [],
   "source": [
    "# A farming company wants to know if a new fertilizer has improved crop yield or not"
   ]
  },
  {
   "cell_type": "code",
   "execution_count": null,
   "id": "f02ad35a",
   "metadata": {},
   "outputs": [],
   "source": [
    "# Sample T Test"
   ]
  },
  {
   "cell_type": "code",
   "execution_count": null,
   "id": "6b11469e",
   "metadata": {},
   "outputs": [],
   "source": [
    "# Does the length of time of the lecture correlate with a students grade?"
   ]
  },
  {
   "cell_type": "code",
   "execution_count": null,
   "id": "e9857796",
   "metadata": {},
   "outputs": [],
   "source": [
    "# Sample T Test"
   ]
  },
  {
   "cell_type": "code",
   "execution_count": null,
   "id": "777925d2",
   "metadata": {},
   "outputs": [],
   "source": [
    "# Do people with dogs live in apartments more than people with cats?"
   ]
  },
  {
   "cell_type": "code",
   "execution_count": null,
   "id": "ef222e83",
   "metadata": {},
   "outputs": [],
   "source": [
    "# ANOVA"
   ]
  },
  {
   "cell_type": "code",
   "execution_count": null,
   "id": "c2ff7833",
   "metadata": {},
   "outputs": [],
   "source": [
    "# help answer the question of whether using a macbook and being a codeup student are independent of each othe"
   ]
  },
  {
   "cell_type": "code",
   "execution_count": null,
   "id": "ef6324e7",
   "metadata": {},
   "outputs": [],
   "source": [
    "index = [\"Uses Macbook\", \"Doesn't Macbook\"]\n",
    "columns = [\"Codeup Student\", \"Not Codeup Student\"]\n",
    "\n",
    "obv = pd.DataFrame([[49, 20], [1, 30]], index=index, columns=columns)"
   ]
  },
  {
   "cell_type": "code",
   "execution_count": null,
   "id": "a364e58e",
   "metadata": {},
   "outputs": [],
   "source": [
    "chi2, p, degf, expected = stats.chi2_contingency(obv)\n",
    "p"
   ]
  },
  {
   "cell_type": "code",
   "execution_count": null,
   "id": "ee204ed5",
   "metadata": {},
   "outputs": [],
   "source": [
    "# Choose another 2 categorical variables from the mpg dataset and perform a \n",
    "# chi2 contingency table test with them. Be sure to state your null and alternative hypotheses."
   ]
  },
  {
   "cell_type": "code",
   "execution_count": null,
   "id": "f7fdb377",
   "metadata": {},
   "outputs": [],
   "source": [
    "df = data(\"mpg\")\n",
    "df = df.rename(columns={\"class\": \"vehicle_type\"})\n",
    "df[\"is_automatic\"] = df.trans.str.startswith(\"a\")"
   ]
  },
  {
   "cell_type": "code",
   "execution_count": null,
   "id": "b0cfcaef",
   "metadata": {},
   "outputs": [],
   "source": [
    "obv = pd.crosstab(df.vehicle_type, df.is_automatic)\n",
    "chi2, p, degf, expected = stats.chi2_contingency(obv)\n",
    "p"
   ]
  },
  {
   "cell_type": "code",
   "execution_count": null,
   "id": "8d874254",
   "metadata": {},
   "outputs": [],
   "source": [
    "# Is an employee's gender independent of whether an employee works in sales or marketing? "
   ]
  },
  {
   "cell_type": "code",
   "execution_count": null,
   "id": "682ea332",
   "metadata": {},
   "outputs": [],
   "source": [
    "sql4 = \"\"\"\n",
    "SELECT gender, dept_name\n",
    "FROM employees\n",
    "JOIN dept_emp using(emp_no)\n",
    "JOIN departments using(dept_no)\n",
    "WHERE to_date > curdate()\n",
    "AND dept_name IN ('Sales', 'Marketing')\n",
    "\"\"\"\n",
    "\n",
    "url2 = get_db_url(\"employees\")\n",
    "\n",
    "df = pd.read_sql(sql4, url2)"
   ]
  },
  {
   "cell_type": "code",
   "execution_count": null,
   "id": "c5254c7a",
   "metadata": {},
   "outputs": [],
   "source": [
    "obv = pd.crosstab(df.gender, df.dept_name)\n",
    "obv"
   ]
  },
  {
   "cell_type": "code",
   "execution_count": null,
   "id": "c0b1b22c",
   "metadata": {},
   "outputs": [],
   "source": [
    "# Is an employee's gender independent of whether or not they are or have been a manager?"
   ]
  },
  {
   "cell_type": "code",
   "execution_count": null,
   "id": "642a36f7",
   "metadata": {},
   "outputs": [],
   "source": [
    "sql5 = \"\"\"\n",
    "SELECT gender, title, emp_no\n",
    "FROM employees\n",
    "JOIN titles using(emp_no)\n",
    "\"\"\"\n",
    "df = pd.read_sql(sql5, url2)\n",
    "df[\"is_manager\"] = df.title == \"Manager\""
   ]
  },
  {
   "cell_type": "code",
   "execution_count": null,
   "id": "a1bc9e56",
   "metadata": {},
   "outputs": [],
   "source": [
    "obv = pd.crosstab(df.gender, df.is_manager)\n",
    "obv"
   ]
  },
  {
   "cell_type": "code",
   "execution_count": null,
   "id": "364e4444",
   "metadata": {},
   "outputs": [],
   "source": [
    "chi2, p, degf, expected = stats.chi2_contingency(observed)\n",
    "p"
   ]
  }
 ],
 "metadata": {
  "kernelspec": {
   "display_name": "Python 3 (ipykernel)",
   "language": "python",
   "name": "python3"
  },
  "language_info": {
   "codemirror_mode": {
    "name": "ipython",
    "version": 3
   },
   "file_extension": ".py",
   "mimetype": "text/x-python",
   "name": "python",
   "nbconvert_exporter": "python",
   "pygments_lexer": "ipython3",
   "version": "3.10.9"
  }
 },
 "nbformat": 4,
 "nbformat_minor": 5
}
