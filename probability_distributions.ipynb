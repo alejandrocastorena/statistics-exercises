{
 "cells": [
  {
   "cell_type": "code",
   "execution_count": 1,
   "id": "84c5c9ef",
   "metadata": {},
   "outputs": [],
   "source": [
    "import numpy as np\n",
    "import pandas as pd\n",
    "import matplotlib.pyplot as plt\n",
    "import env\n",
    "from env import host, username, password\n",
    "from scipy import stats"
   ]
  },
  {
   "cell_type": "code",
   "execution_count": 2,
   "id": "b0efbbeb",
   "metadata": {},
   "outputs": [],
   "source": [
    "def get_db_url(db):\n",
    "    from env import username, password, host\n",
    "    return f'mysql+pymysql://{username}:{password}@{host}/{db}'\n",
    "url = get_db_url(\"employees\")"
   ]
  },
  {
   "cell_type": "code",
   "execution_count": 3,
   "id": "f5bb9eab",
   "metadata": {},
   "outputs": [],
   "source": [
    "# What is the probability that no cars drive up in the noon hour?"
   ]
  },
  {
   "cell_type": "code",
   "execution_count": 4,
   "id": "7a3b13d2",
   "metadata": {},
   "outputs": [
    {
     "data": {
      "text/plain": [
       "<scipy.stats._distn_infrastructure.rv_discrete_frozen at 0x7f9cd93fd600>"
      ]
     },
     "execution_count": 4,
     "metadata": {},
     "output_type": "execute_result"
    }
   ],
   "source": [
    "lamb = 2\n",
    "cars = stats.poisson(lamb)\n",
    "cars"
   ]
  },
  {
   "cell_type": "code",
   "execution_count": 5,
   "id": "042bb3d8",
   "metadata": {},
   "outputs": [
    {
     "data": {
      "image/png": "[encoded data removed]",
      "text/plain": [
       "<Figure size 600x300 with 1 Axes>"
      ]
     },
     "metadata": {},
     "output_type": "display_data"
    }
   ],
   "source": [
    "dt_cars = 2\n",
    "\n",
    "x = np.arange(0, 10)\n",
    "y = stats.poisson(dt_cars).pmf(x)\n",
    "\n",
    "plt.figure(figsize=(6, 3))\n",
    "plt.bar(x, y, edgecolor='black', color='cyan', width=1)\n",
    "plt.xticks(x)\n",
    "plt.title('Poisson distribution with $ drive_ through_ cars = 2$')\n",
    "plt.xlabel('Number of cars at noon')\n",
    "plt.ylabel('$P(X)$')\n",
    "plt.show()"
   ]
  },
  {
   "cell_type": "code",
   "execution_count": 6,
   "id": "267f4109",
   "metadata": {},
   "outputs": [
    {
     "data": {
      "text/plain": [
       "0.1353352832366127"
      ]
     },
     "execution_count": 6,
     "metadata": {},
     "output_type": "execute_result"
    }
   ],
   "source": [
    "stats.poisson(dt_cars).pmf(0)"
   ]
  },
  {
   "cell_type": "code",
   "execution_count": 7,
   "id": "8fef5afb",
   "metadata": {},
   "outputs": [],
   "source": [
    "# What is the probability that 3 or more cars come through the drive through?"
   ]
  },
  {
   "cell_type": "code",
   "execution_count": 8,
   "id": "6d8f2efc",
   "metadata": {},
   "outputs": [
    {
     "data": {
      "text/plain": [
       "0.32332358381693654"
      ]
     },
     "execution_count": 8,
     "metadata": {},
     "output_type": "execute_result"
    }
   ],
   "source": [
    "stats.poisson(dt_cars).sf(2)"
   ]
  },
  {
   "cell_type": "code",
   "execution_count": 9,
   "id": "eece75e9",
   "metadata": {},
   "outputs": [],
   "source": [
    "# How likely is it that the drive through gets at least 1 car?"
   ]
  },
  {
   "cell_type": "code",
   "execution_count": 10,
   "id": "d1d3604f",
   "metadata": {},
   "outputs": [
    {
     "data": {
      "text/plain": [
       "0.8646647167633873"
      ]
     },
     "execution_count": 10,
     "metadata": {},
     "output_type": "execute_result"
    }
   ],
   "source": [
    "stats.poisson(dt_cars).sf(0)"
   ]
  },
  {
   "cell_type": "code",
   "execution_count": 11,
   "id": "72f8a0e4",
   "metadata": {},
   "outputs": [],
   "source": [
    "# What grade point average is required to be in the top 5% of the graduating class?"
   ]
  },
  {
   "cell_type": "code",
   "execution_count": 12,
   "id": "9c3cd0e7",
   "metadata": {},
   "outputs": [],
   "source": [
    "β = 3.0\n",
    "ω = 0.3\n",
    "gpa = stats.norm(β, ω)"
   ]
  },
  {
   "cell_type": "code",
   "execution_count": 13,
   "id": "8c478391",
   "metadata": {},
   "outputs": [
    {
     "data": {
      "text/plain": [
       "3.4934560880854417"
      ]
     },
     "execution_count": 13,
     "metadata": {},
     "output_type": "execute_result"
    }
   ],
   "source": [
    "gpa.isf(0.05)"
   ]
  },
  {
   "cell_type": "code",
   "execution_count": 14,
   "id": "47c09db7",
   "metadata": {},
   "outputs": [],
   "source": [
    "# What GPA constitutes the bottom 15% of the class?"
   ]
  },
  {
   "cell_type": "code",
   "execution_count": 15,
   "id": "37cac5f0",
   "metadata": {},
   "outputs": [
    {
     "data": {
      "text/plain": [
       "2.689069983151863"
      ]
     },
     "execution_count": 15,
     "metadata": {},
     "output_type": "execute_result"
    }
   ],
   "source": [
    "gpa.ppf(0.15)"
   ]
  },
  {
   "cell_type": "code",
   "execution_count": 16,
   "id": "f32481e5",
   "metadata": {},
   "outputs": [],
   "source": [
    "# Would a student with a 2.8 grade point average qualify for this scholarship?"
   ]
  },
  {
   "cell_type": "code",
   "execution_count": 17,
   "id": "ad9fa3a9",
   "metadata": {},
   "outputs": [
    {
     "data": {
      "text/plain": [
       "2.8762610611675785"
      ]
     },
     "execution_count": 17,
     "metadata": {},
     "output_type": "execute_result"
    }
   ],
   "source": [
    "gpa.isf(0.66)\n",
    "# Yes"
   ]
  },
  {
   "cell_type": "code",
   "execution_count": 18,
   "id": "64d3b573",
   "metadata": {},
   "outputs": [],
   "source": [
    "# If I have a GPA of 3.5, what percentile am I in?"
   ]
  },
  {
   "cell_type": "code",
   "execution_count": 19,
   "id": "728d30c6",
   "metadata": {},
   "outputs": [
    {
     "data": {
      "text/plain": [
       "0.9522096477271853"
      ]
     },
     "execution_count": 19,
     "metadata": {},
     "output_type": "execute_result"
    }
   ],
   "source": [
    "gpa.cdf(3.5)"
   ]
  },
  {
   "cell_type": "code",
   "execution_count": 20,
   "id": "684e8503",
   "metadata": {},
   "outputs": [],
   "source": [
    "# A marketing website has an average click-through rate of 2%. One day they observe 4326 visitors and 97 click-throughs."
   ]
  },
  {
   "cell_type": "code",
   "execution_count": 21,
   "id": "37f47573",
   "metadata": {},
   "outputs": [],
   "source": [
    "# How likely is it that this many people or more click through"
   ]
  },
  {
   "cell_type": "code",
   "execution_count": 22,
   "id": "02f14940",
   "metadata": {},
   "outputs": [
    {
     "data": {
      "text/plain": [
       "0.11781530585978467"
      ]
     },
     "execution_count": 22,
     "metadata": {},
     "output_type": "execute_result"
    }
   ],
   "source": [
    "v = 4326\n",
    "r = 0.02\n",
    "stats.binom(v, r).sf(97)"
   ]
  },
  {
   "cell_type": "code",
   "execution_count": 23,
   "id": "deeab3fc",
   "metadata": {},
   "outputs": [],
   "source": [
    "# What is the probability that at least one of your first 60 answers is correct?"
   ]
  },
  {
   "cell_type": "code",
   "execution_count": 24,
   "id": "9cb9d2f2",
   "metadata": {},
   "outputs": [
    {
     "data": {
      "text/plain": [
       "0.45284335760923855"
      ]
     },
     "execution_count": 24,
     "metadata": {},
     "output_type": "execute_result"
    }
   ],
   "source": [
    "a = 60\n",
    "rd = 0.01\n",
    "stats.binom(a, rd).sf(0)"
   ]
  },
  {
   "cell_type": "code",
   "execution_count": 25,
   "id": "32991945",
   "metadata": {},
   "outputs": [],
   "source": [
    "# How likely is it that the break area gets cleaned up each day? How likely is it that it goes two days without getting cleaned up? All week?"
   ]
  },
  {
   "cell_type": "code",
   "execution_count": 26,
   "id": "e53bad4c",
   "metadata": {},
   "outputs": [
    {
     "data": {
      "text/plain": [
       "0.8342199288437352"
      ]
     },
     "execution_count": 26,
     "metadata": {},
     "output_type": "execute_result"
    }
   ],
   "source": [
    "rd = round(0.9 * 3 * 22)\n",
    "cl = 0.03\n",
    "stats.binom(rd, cl).sf(0)"
   ]
  },
  {
   "cell_type": "code",
   "execution_count": 27,
   "id": "ffaadf39",
   "metadata": {},
   "outputs": [
    {
     "data": {
      "text/plain": [
       "0.027483031992576134"
      ]
     },
     "execution_count": 27,
     "metadata": {},
     "output_type": "execute_result"
    }
   ],
   "source": [
    "stats.binom(rd * 2, cl).pmf(0)"
   ]
  },
  {
   "cell_type": "code",
   "execution_count": 29,
   "id": "84bf1dd9",
   "metadata": {},
   "outputs": [
    {
     "data": {
      "text/plain": [
       "0.00012521651388091245"
      ]
     },
     "execution_count": 29,
     "metadata": {},
     "output_type": "execute_result"
    }
   ],
   "source": [
    "stats.binom(rd * 5, cl).pmf(0)"
   ]
  },
  {
   "cell_type": "code",
   "execution_count": null,
   "id": "c45da9f4",
   "metadata": {},
   "outputs": [],
   "source": [
    "# If it takes 2 minutes for each person to order, and 10 minutes from ordering to getting your food, what is the likelihood that you have at least 15 minutes left to eat your food before you have to go back to class? Assume you have one hour for lunch, and ignore travel time to and from La Panaderia"
   ]
  },
  {
   "cell_type": "code",
   "execution_count": null,
   "id": "faad13be",
   "metadata": {},
   "outputs": [],
   "source": [
    "ζ = 15 * 2\n",
    "α = 3 * 2\n",
    "stats.norm(ζ, α).cdf(33)"
   ]
  }
 ],
 "metadata": {
  "kernelspec": {
   "display_name": "Python 3 (ipykernel)",
   "language": "python",
   "name": "python3"
  },
  "language_info": {
   "codemirror_mode": {
    "name": "ipython",
    "version": 3
   },
   "file_extension": ".py",
   "mimetype": "text/x-python",
   "name": "python",
   "nbconvert_exporter": "python",
   "pygments_lexer": "ipython3",
   "version": "3.10.9"
  }
 },
 "nbformat": 4,
 "nbformat_minor": 5
}
