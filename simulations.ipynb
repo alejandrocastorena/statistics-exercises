{
 "cells": [
  {
   "cell_type": "code",
   "execution_count": 1,
   "id": "5cceb36e",
   "metadata": {},
   "outputs": [],
   "source": [
    "%matplotlib inline\n",
    "import numpy as np\n",
    "import pandas as pd\n",
    "np.random.seed(123)"
   ]
  },
  {
   "cell_type": "code",
   "execution_count": 2,
   "id": "398d4871",
   "metadata": {},
   "outputs": [],
   "source": [
    "# How likely is it that you roll doubles when rolling two dice?"
   ]
  },
  {
   "cell_type": "code",
   "execution_count": 3,
   "id": "5274017f",
   "metadata": {},
   "outputs": [
    {
     "data": {
      "text/plain": [
       "0.16666666666666666"
      ]
     },
     "execution_count": 3,
     "metadata": {},
     "output_type": "execute_result"
    }
   ],
   "source": [
    "6/36"
   ]
  },
  {
   "cell_type": "code",
   "execution_count": 4,
   "id": "751f9f14",
   "metadata": {},
   "outputs": [],
   "source": [
    "# If you flip 8 coins, what is the probability of getting exactly 3 heads? What is the probability of getting more than 3 heads?"
   ]
  },
  {
   "cell_type": "code",
   "execution_count": 5,
   "id": "f6eca047",
   "metadata": {},
   "outputs": [],
   "source": [
    "attempts = 10000\n",
    "coins = 8\n",
    "heads = 1\n",
    "tails = 0\n",
    "outcomes =[heads, tails]"
   ]
  },
  {
   "cell_type": "code",
   "execution_count": 6,
   "id": "772dab74",
   "metadata": {},
   "outputs": [
    {
     "data": {
      "text/plain": [
       "array([[1, 0, 1, ..., 1, 1, 0],\n",
       "       [0, 1, 0, ..., 0, 1, 0],\n",
       "       [1, 0, 0, ..., 1, 0, 0],\n",
       "       ...,\n",
       "       [0, 0, 1, ..., 1, 0, 1],\n",
       "       [0, 1, 1, ..., 0, 0, 1],\n",
       "       [0, 0, 0, ..., 0, 0, 0]])"
      ]
     },
     "execution_count": 6,
     "metadata": {},
     "output_type": "execute_result"
    }
   ],
   "source": [
    "flips= np.random.choice(outcomes, size =(attempts, coins))\n",
    "flips"
   ]
  },
  {
   "cell_type": "code",
   "execution_count": 7,
   "id": "4754a20c",
   "metadata": {},
   "outputs": [
    {
     "data": {
      "text/plain": [
       "array([6, 3, 4, ..., 4, 4, 1])"
      ]
     },
     "execution_count": 7,
     "metadata": {},
     "output_type": "execute_result"
    }
   ],
   "source": [
    "num_heads = flips.sum(axis=1)\n",
    "num_heads"
   ]
  },
  {
   "cell_type": "code",
   "execution_count": 8,
   "id": "34b130ee",
   "metadata": {},
   "outputs": [
    {
     "data": {
      "text/plain": [
       "0.2105"
      ]
     },
     "execution_count": 8,
     "metadata": {},
     "output_type": "execute_result"
    }
   ],
   "source": [
    "calculated_prob=(num_heads == 3).mean()\n",
    "calculated_prob"
   ]
  },
  {
   "cell_type": "code",
   "execution_count": 9,
   "id": "abf69132",
   "metadata": {},
   "outputs": [
    {
     "data": {
      "text/plain": [
       "0.6441"
      ]
     },
     "execution_count": 9,
     "metadata": {},
     "output_type": "execute_result"
    }
   ],
   "source": [
    "calculated_prob=(num_heads > 3).mean()\n",
    "calculated_prob"
   ]
  },
  {
   "cell_type": "code",
   "execution_count": 10,
   "id": "2d790286",
   "metadata": {},
   "outputs": [],
   "source": [
    "# There are approximitely 3 web development cohorts for every 1 data science cohort at Codeup. Assuming that Codeup randomly selects an alumni to put on a billboard, what are the odds that the two billboards I drive past both have data science students on them?"
   ]
  },
  {
   "cell_type": "code",
   "execution_count": 11,
   "id": "95ad3aff",
   "metadata": {},
   "outputs": [
    {
     "data": {
      "text/plain": [
       "0.0625"
      ]
     },
     "execution_count": 11,
     "metadata": {},
     "output_type": "execute_result"
    }
   ],
   "source": [
    "(1/4) * (1/4)"
   ]
  },
  {
   "cell_type": "code",
   "execution_count": 12,
   "id": "a02fab81",
   "metadata": {},
   "outputs": [],
   "source": [
    "# Codeup students buy, on average, 3 poptart packages with a standard deviation of 1.5 a day from the snack vending machine. If on monday the machine is restocked with 17 poptart packages, how likely is it that I will be able to buy some poptarts on Friday afternoon?"
   ]
  },
  {
   "cell_type": "code",
   "execution_count": 13,
   "id": "82460b49",
   "metadata": {},
   "outputs": [],
   "source": [
    "poptart_avg = 3\n",
    "poptart_std = 1.5\n",
    "days= 5\n",
    "attempts = 1000000"
   ]
  },
  {
   "cell_type": "code",
   "execution_count": 14,
   "id": "1b368474",
   "metadata": {},
   "outputs": [
    {
     "data": {
      "text/plain": [
       "array([[3.10412472e+00, 2.67613939e+00, 3.28060569e+00, 3.53714534e+00,\n",
       "        3.18549210e+00],\n",
       "       [4.43539613e+00, 1.78860610e+00, 2.48253820e+00, 4.27565742e+00,\n",
       "        3.82770460e+00],\n",
       "       [2.94494993e+00, 4.82192615e+00, 7.75398311e-01, 2.81844442e+00,\n",
       "        3.62907901e+00],\n",
       "       ...,\n",
       "       [3.28702571e+00, 1.59576889e+00, 4.79511587e+00, 3.34092211e+00,\n",
       "        2.26902541e+00],\n",
       "       [3.78521388e+00, 1.85763166e+00, 2.88859738e+00, 1.30692875e+00,\n",
       "        4.10026705e+00],\n",
       "       [3.00026822e-03, 5.36621890e+00, 4.04940970e+00, 2.96696749e+00,\n",
       "        2.61213705e+00]])"
      ]
     },
     "execution_count": 14,
     "metadata": {},
     "output_type": "execute_result"
    }
   ],
   "source": [
    "simulated_consumed_poptarts= np.random.normal(poptart_avg, poptart_std,(attempts, days))\n",
    "simulated_consumed_poptarts"
   ]
  },
  {
   "cell_type": "code",
   "execution_count": 15,
   "id": "378fc9a3",
   "metadata": {},
   "outputs": [
    {
     "data": {
      "text/plain": [
       "0.72389"
      ]
     },
     "execution_count": 15,
     "metadata": {},
     "output_type": "execute_result"
    }
   ],
   "source": [
    "calculated_prob = (simulated_consumed_poptarts.sum(axis=1) <17).mean()\n",
    "calculated_prob"
   ]
  },
  {
   "cell_type": "code",
   "execution_count": 16,
   "id": "e8220c10",
   "metadata": {},
   "outputs": [],
   "source": [
    "poptart_packs = 17 \n",
    "days = 5 \n",
    "attempts = 10000 "
   ]
  },
  {
   "cell_type": "code",
   "execution_count": 17,
   "id": "4bbbb530",
   "metadata": {},
   "outputs": [
    {
     "data": {
      "text/plain": [
       "array([[ 2.,  5.,  4.,  3.,  2.],\n",
       "       [ 3.,  4.,  4.,  1.,  3.],\n",
       "       [ 0.,  4.,  5.,  3.,  1.],\n",
       "       ...,\n",
       "       [ 0.,  3.,  4.,  3., -1.],\n",
       "       [ 5.,  1.,  4.,  2.,  2.],\n",
       "       [ 3.,  5.,  5.,  3.,  4.]])"
      ]
     },
     "execution_count": 17,
     "metadata": {},
     "output_type": "execute_result"
    }
   ],
   "source": [
    "packages = np.round(np.random.normal(3,1.5, (attempts, days)))\n",
    "packages"
   ]
  },
  {
   "cell_type": "code",
   "execution_count": 18,
   "id": "e7e871ce",
   "metadata": {},
   "outputs": [
    {
     "data": {
      "text/plain": [
       "array([[2., 5., 4., 3., 2.],\n",
       "       [3., 4., 4., 1., 3.],\n",
       "       [0., 4., 5., 3., 1.],\n",
       "       ...,\n",
       "       [0., 3., 4., 3., 0.],\n",
       "       [5., 1., 4., 2., 2.],\n",
       "       [3., 5., 5., 3., 4.]])"
      ]
     },
     "execution_count": 18,
     "metadata": {},
     "output_type": "execute_result"
    }
   ],
   "source": [
    "package_purchased = np.where(packages < 0,0,packages)\n",
    "package_purchased"
   ]
  },
  {
   "cell_type": "code",
   "execution_count": 19,
   "id": "ae33138a",
   "metadata": {},
   "outputs": [
    {
     "data": {
      "text/plain": [
       "array([16., 15., 13., ..., 10., 14., 20.])"
      ]
     },
     "execution_count": 19,
     "metadata": {},
     "output_type": "execute_result"
    }
   ],
   "source": [
    "all_packages = package_purchased.sum(axis=1)\n",
    "all_packages"
   ]
  },
  {
   "cell_type": "code",
   "execution_count": 20,
   "id": "9d07c10f",
   "metadata": {},
   "outputs": [
    {
     "data": {
      "text/plain": [
       "array([ True,  True,  True, ...,  True,  True, False])"
      ]
     },
     "execution_count": 20,
     "metadata": {},
     "output_type": "execute_result"
    }
   ],
   "source": [
    "friday = all_packages < 17\n",
    "friday"
   ]
  },
  {
   "cell_type": "code",
   "execution_count": 21,
   "id": "3276ce62",
   "metadata": {},
   "outputs": [
    {
     "data": {
      "text/plain": [
       "0.6612"
      ]
     },
     "execution_count": 21,
     "metadata": {},
     "output_type": "execute_result"
    }
   ],
   "source": [
    "left_on_friday = friday.mean()\n",
    "left_on_friday"
   ]
  },
  {
   "cell_type": "code",
   "execution_count": 22,
   "id": "09cf4971",
   "metadata": {},
   "outputs": [],
   "source": [
    "# If a man and woman are chosen at random, what is the likelihood the woman is taller than the man?"
   ]
  },
  {
   "cell_type": "code",
   "execution_count": 23,
   "id": "c3edf9c0",
   "metadata": {},
   "outputs": [],
   "source": [
    "men_avg= 178\n",
    "men_std=8\n",
    "women_avg=170\n",
    "women_std=6\n",
    "trials = 1000000"
   ]
  },
  {
   "cell_type": "code",
   "execution_count": 24,
   "id": "a56734bf",
   "metadata": {},
   "outputs": [
    {
     "data": {
      "text/plain": [
       "0.211"
      ]
     },
     "execution_count": 24,
     "metadata": {},
     "output_type": "execute_result"
    }
   ],
   "source": [
    "men = np.random.normal(men_avg, men_std, attempts)\n",
    "women = np.random.normal(women_avg, women_std, attempts)\n",
    "calculated_prob = (women > men).mean()\n",
    "calculated_prob"
   ]
  },
  {
   "cell_type": "code",
   "execution_count": 25,
   "id": "f413ec2c",
   "metadata": {},
   "outputs": [],
   "source": [
    "# What are the odds that after having 50 students download anaconda, no one has an installation issue? 100 students?"
   ]
  },
  {
   "cell_type": "code",
   "execution_count": 26,
   "id": "6e1e7a52",
   "metadata": {},
   "outputs": [],
   "source": [
    "attempts= 1000000\n",
    "installs= 50\n",
    "conda_fails= 1\n",
    "success = 0\n",
    "outcomes= [conda_fails, success]\n",
    "failure= 1/250"
   ]
  },
  {
   "cell_type": "code",
   "execution_count": 27,
   "id": "c62f8f36",
   "metadata": {},
   "outputs": [
    {
     "data": {
      "text/plain": [
       "0.818725"
      ]
     },
     "execution_count": 27,
     "metadata": {},
     "output_type": "execute_result"
    }
   ],
   "source": [
    "installs = np.random.choice(outcomes, size = (attempts, installs), p = [249/250, 1/250])\n",
    "((installs < failure).sum(axis=1)== 0).mean()"
   ]
  },
  {
   "cell_type": "code",
   "execution_count": 28,
   "id": "104f8381",
   "metadata": {},
   "outputs": [
    {
     "data": {
      "text/plain": [
       "0.0"
      ]
     },
     "execution_count": 28,
     "metadata": {},
     "output_type": "execute_result"
    }
   ],
   "source": [
    "(installs.sum(axis = 1) == 0).mean()"
   ]
  },
  {
   "cell_type": "code",
   "execution_count": 29,
   "id": "dd0612fe",
   "metadata": {},
   "outputs": [
    {
     "data": {
      "text/plain": [
       "0.818725"
      ]
     },
     "execution_count": 29,
     "metadata": {},
     "output_type": "execute_result"
    }
   ],
   "source": [
    "((installs < failure).sum(axis=1)== 0).mean()"
   ]
  },
  {
   "cell_type": "code",
   "execution_count": 30,
   "id": "ea2c527a",
   "metadata": {},
   "outputs": [],
   "source": [
    "n_trials= 1000000\n",
    "n_installs= 100\n",
    "conda_fails= 1\n",
    "success = 0\n",
    "prob_fail= 1/250"
   ]
  },
  {
   "cell_type": "code",
   "execution_count": 31,
   "id": "c008f5f4",
   "metadata": {},
   "outputs": [
    {
     "name": "stderr",
     "output_type": "stream",
     "text": [
      "/usr/local/anaconda3/lib/python3.10/site-packages/numpy/core/fromnumeric.py:86: VisibleDeprecationWarning: Creating an ndarray from ragged nested sequences (which is a list-or-tuple of lists-or-tuples-or ndarrays with different lengths or shapes) is deprecated. If you meant to do this, you must specify 'dtype=object' when creating the ndarray.\n",
      "  return ufunc.reduce(obj, axis, dtype, out, **passkwargs)\n"
     ]
    },
    {
     "ename": "ValueError",
     "evalue": "setting an array element with a sequence.",
     "output_type": "error",
     "traceback": [
      "\u001b[0;31m---------------------------------------------------------------------------\u001b[0m",
      "\u001b[0;31mTypeError\u001b[0m                                 Traceback (most recent call last)",
      "\u001b[0;31mTypeError\u001b[0m: only size-1 arrays can be converted to Python scalars",
      "\nThe above exception was the direct cause of the following exception:\n",
      "\u001b[0;31mValueError\u001b[0m                                Traceback (most recent call last)",
      "Cell \u001b[0;32mIn[31], line 1\u001b[0m\n\u001b[0;32m----> 1\u001b[0m installs_100 \u001b[38;5;241m=\u001b[39m \u001b[43mnp\u001b[49m\u001b[38;5;241;43m.\u001b[39;49m\u001b[43mrandom\u001b[49m\u001b[38;5;241;43m.\u001b[39;49m\u001b[43mchoice\u001b[49m\u001b[43m(\u001b[49m\u001b[43moutcomes\u001b[49m\u001b[43m,\u001b[49m\u001b[43m \u001b[49m\u001b[43msize\u001b[49m\u001b[43m \u001b[49m\u001b[38;5;241;43m=\u001b[39;49m\u001b[43m \u001b[49m\u001b[43m(\u001b[49m\u001b[43mattempts\u001b[49m\u001b[43m,\u001b[49m\u001b[43m \u001b[49m\u001b[43minstalls\u001b[49m\u001b[43m)\u001b[49m\u001b[43m,\u001b[49m\u001b[43m \u001b[49m\u001b[43mp\u001b[49m\u001b[43m \u001b[49m\u001b[38;5;241;43m=\u001b[39;49m\u001b[43m \u001b[49m\u001b[43m[\u001b[49m\u001b[38;5;241;43m249\u001b[39;49m\u001b[38;5;241;43m/\u001b[39;49m\u001b[38;5;241;43m250\u001b[39;49m\u001b[43m,\u001b[49m\u001b[43m \u001b[49m\u001b[38;5;241;43m1\u001b[39;49m\u001b[38;5;241;43m/\u001b[39;49m\u001b[38;5;241;43m250\u001b[39;49m\u001b[43m]\u001b[49m\u001b[43m)\u001b[49m\n\u001b[1;32m      2\u001b[0m ((installs_100 \u001b[38;5;241m<\u001b[39m failure)\u001b[38;5;241m.\u001b[39msum(axis\u001b[38;5;241m=\u001b[39m\u001b[38;5;241m1\u001b[39m)\u001b[38;5;241m==\u001b[39m \u001b[38;5;241m0\u001b[39m)\u001b[38;5;241m.\u001b[39mmean()\n",
      "File \u001b[0;32mmtrand.pyx:946\u001b[0m, in \u001b[0;36mnumpy.random.mtrand.RandomState.choice\u001b[0;34m()\u001b[0m\n",
      "File \u001b[0;32m<__array_function__ internals>:180\u001b[0m, in \u001b[0;36mprod\u001b[0;34m(*args, **kwargs)\u001b[0m\n",
      "File \u001b[0;32m/usr/local/anaconda3/lib/python3.10/site-packages/numpy/core/fromnumeric.py:3045\u001b[0m, in \u001b[0;36mprod\u001b[0;34m(a, axis, dtype, out, keepdims, initial, where)\u001b[0m\n\u001b[1;32m   2927\u001b[0m \u001b[38;5;129m@array_function_dispatch\u001b[39m(_prod_dispatcher)\n\u001b[1;32m   2928\u001b[0m \u001b[38;5;28;01mdef\u001b[39;00m \u001b[38;5;21mprod\u001b[39m(a, axis\u001b[38;5;241m=\u001b[39m\u001b[38;5;28;01mNone\u001b[39;00m, dtype\u001b[38;5;241m=\u001b[39m\u001b[38;5;28;01mNone\u001b[39;00m, out\u001b[38;5;241m=\u001b[39m\u001b[38;5;28;01mNone\u001b[39;00m, keepdims\u001b[38;5;241m=\u001b[39mnp\u001b[38;5;241m.\u001b[39m_NoValue,\n\u001b[1;32m   2929\u001b[0m          initial\u001b[38;5;241m=\u001b[39mnp\u001b[38;5;241m.\u001b[39m_NoValue, where\u001b[38;5;241m=\u001b[39mnp\u001b[38;5;241m.\u001b[39m_NoValue):\n\u001b[1;32m   2930\u001b[0m     \u001b[38;5;124;03m\"\"\"\u001b[39;00m\n\u001b[1;32m   2931\u001b[0m \u001b[38;5;124;03m    Return the product of array elements over a given axis.\u001b[39;00m\n\u001b[1;32m   2932\u001b[0m \n\u001b[0;32m   (...)\u001b[0m\n\u001b[1;32m   3043\u001b[0m \u001b[38;5;124;03m    10\u001b[39;00m\n\u001b[1;32m   3044\u001b[0m \u001b[38;5;124;03m    \"\"\"\u001b[39;00m\n\u001b[0;32m-> 3045\u001b[0m     \u001b[38;5;28;01mreturn\u001b[39;00m \u001b[43m_wrapreduction\u001b[49m\u001b[43m(\u001b[49m\u001b[43ma\u001b[49m\u001b[43m,\u001b[49m\u001b[43m \u001b[49m\u001b[43mnp\u001b[49m\u001b[38;5;241;43m.\u001b[39;49m\u001b[43mmultiply\u001b[49m\u001b[43m,\u001b[49m\u001b[43m \u001b[49m\u001b[38;5;124;43m'\u001b[39;49m\u001b[38;5;124;43mprod\u001b[39;49m\u001b[38;5;124;43m'\u001b[39;49m\u001b[43m,\u001b[49m\u001b[43m \u001b[49m\u001b[43maxis\u001b[49m\u001b[43m,\u001b[49m\u001b[43m \u001b[49m\u001b[43mdtype\u001b[49m\u001b[43m,\u001b[49m\u001b[43m \u001b[49m\u001b[43mout\u001b[49m\u001b[43m,\u001b[49m\n\u001b[1;32m   3046\u001b[0m \u001b[43m                          \u001b[49m\u001b[43mkeepdims\u001b[49m\u001b[38;5;241;43m=\u001b[39;49m\u001b[43mkeepdims\u001b[49m\u001b[43m,\u001b[49m\u001b[43m \u001b[49m\u001b[43minitial\u001b[49m\u001b[38;5;241;43m=\u001b[39;49m\u001b[43minitial\u001b[49m\u001b[43m,\u001b[49m\u001b[43m \u001b[49m\u001b[43mwhere\u001b[49m\u001b[38;5;241;43m=\u001b[39;49m\u001b[43mwhere\u001b[49m\u001b[43m)\u001b[49m\n",
      "File \u001b[0;32m/usr/local/anaconda3/lib/python3.10/site-packages/numpy/core/fromnumeric.py:86\u001b[0m, in \u001b[0;36m_wrapreduction\u001b[0;34m(obj, ufunc, method, axis, dtype, out, **kwargs)\u001b[0m\n\u001b[1;32m     83\u001b[0m         \u001b[38;5;28;01melse\u001b[39;00m:\n\u001b[1;32m     84\u001b[0m             \u001b[38;5;28;01mreturn\u001b[39;00m reduction(axis\u001b[38;5;241m=\u001b[39maxis, out\u001b[38;5;241m=\u001b[39mout, \u001b[38;5;241m*\u001b[39m\u001b[38;5;241m*\u001b[39mpasskwargs)\n\u001b[0;32m---> 86\u001b[0m \u001b[38;5;28;01mreturn\u001b[39;00m \u001b[43mufunc\u001b[49m\u001b[38;5;241;43m.\u001b[39;49m\u001b[43mreduce\u001b[49m\u001b[43m(\u001b[49m\u001b[43mobj\u001b[49m\u001b[43m,\u001b[49m\u001b[43m \u001b[49m\u001b[43maxis\u001b[49m\u001b[43m,\u001b[49m\u001b[43m \u001b[49m\u001b[43mdtype\u001b[49m\u001b[43m,\u001b[49m\u001b[43m \u001b[49m\u001b[43mout\u001b[49m\u001b[43m,\u001b[49m\u001b[43m \u001b[49m\u001b[38;5;241;43m*\u001b[39;49m\u001b[38;5;241;43m*\u001b[39;49m\u001b[43mpasskwargs\u001b[49m\u001b[43m)\u001b[49m\n",
      "\u001b[0;31mValueError\u001b[0m: setting an array element with a sequence."
     ]
    }
   ],
   "source": [
    "installs_100 = np.random.choice(outcomes, size = (attempts, installs), p = [249/250, 1/250])\n",
    "((installs_100 < failure).sum(axis=1)== 0).mean()"
   ]
  },
  {
   "cell_type": "code",
   "execution_count": null,
   "id": "a89130fe",
   "metadata": {},
   "outputs": [],
   "source": [
    "attemptss= 1000000\n",
    "installs= 150\n",
    "conda_fails= 1\n",
    "success = 0\n",
    "failure= 1/250"
   ]
  },
  {
   "cell_type": "code",
   "execution_count": null,
   "id": "266184cb",
   "metadata": {},
   "outputs": [],
   "source": [
    "installs = np.random.random((installs,attempts))\n",
    "installs < failure"
   ]
  },
  {
   "cell_type": "code",
   "execution_count": null,
   "id": "3d008e83",
   "metadata": {},
   "outputs": [],
   "source": [
    "((installs < failure).sum(axis=1)> 0).mean()"
   ]
  },
  {
   "cell_type": "code",
   "execution_count": null,
   "id": "b0d7a64a",
   "metadata": {},
   "outputs": [],
   "source": [
    "attempts= 1000000\n",
    "installs= 450\n",
    "conda_fails= 1\n",
    "success = 0\n",
    "failure= 1/250"
   ]
  },
  {
   "cell_type": "code",
   "execution_count": null,
   "id": "009e621f",
   "metadata": {},
   "outputs": [],
   "source": [
    "installs = np.random.random((installs,attempts))"
   ]
  },
  {
   "cell_type": "code",
   "execution_count": null,
   "id": "48edf499",
   "metadata": {},
   "outputs": [],
   "source": [
    "installs < failure"
   ]
  },
  {
   "cell_type": "code",
   "execution_count": null,
   "id": "1e09dc9d",
   "metadata": {},
   "outputs": [],
   "source": [
    "((installs < failure).sum(axis=1)== 0).mean()"
   ]
  },
  {
   "cell_type": "code",
   "execution_count": null,
   "id": "b057dc17",
   "metadata": {},
   "outputs": [],
   "source": [
    "# There's a 70% chance on any given day that there will be at least one food truck at Travis Park. However, you haven't seen a food truck there in 3 days. How unlikely is this?"
   ]
  },
  {
   "cell_type": "code",
   "execution_count": null,
   "id": "510119d4",
   "metadata": {},
   "outputs": [],
   "source": [
    "rows= 1000000\n",
    "columns= 3\n",
    "truck=1\n",
    "no_truck=0\n",
    "data= np.random.random((rows,columns))\n",
    "truck_prob = 0.7"
   ]
  },
  {
   "cell_type": "code",
   "execution_count": null,
   "id": "6ee84f15",
   "metadata": {},
   "outputs": [],
   "source": [
    "((data < truck_prob).sum(axis=1)==0).mean()"
   ]
  },
  {
   "cell_type": "code",
   "execution_count": null,
   "id": "3831c736",
   "metadata": {},
   "outputs": [],
   "source": [
    "rows= 1000000\n",
    "columns= 2 \n",
    "truck=1\n",
    "no_truck=0\n",
    "truck_prob = 0.7\n",
    "days = np.random.random((rows,columns))"
   ]
  },
  {
   "cell_type": "code",
   "execution_count": null,
   "id": "a88b2074",
   "metadata": {},
   "outputs": [],
   "source": [
    "calculated_prob= ((days < truck_prob).sum(axis=1) >0).mean()\n",
    "calculated_prob"
   ]
  },
  {
   "cell_type": "code",
   "execution_count": null,
   "id": "fe7db3dc",
   "metadata": {},
   "outputs": [],
   "source": [
    "# If 23 people are in the same room, what are the odds that two of them share a birthday? What if it's 20 people? 40?"
   ]
  },
  {
   "cell_type": "code",
   "execution_count": null,
   "id": "b851d74d",
   "metadata": {},
   "outputs": [],
   "source": [
    "outcomes = range(0, 365)\n",
    "people= 23 \n",
    "attempts= 1000000 "
   ]
  },
  {
   "cell_type": "code",
   "execution_count": null,
   "id": "a818aaea",
   "metadata": {},
   "outputs": [],
   "source": [
    "bd = np.random.choice(outcomes, size=(attempts, people))\n",
    "bd"
   ]
  },
  {
   "cell_type": "code",
   "execution_count": null,
   "id": "a45e7682",
   "metadata": {},
   "outputs": [],
   "source": [
    "pd.DataFrame(bd).nunique(axis = 1)"
   ]
  },
  {
   "cell_type": "code",
   "execution_count": null,
   "id": "a437dd77",
   "metadata": {},
   "outputs": [],
   "source": [
    "(pd.DataFrame(bd).nunique(axis = 1) < 23).mean()"
   ]
  },
  {
   "cell_type": "code",
   "execution_count": null,
   "id": "55b32f38",
   "metadata": {},
   "outputs": [],
   "source": [
    "attempts = 100000\n",
    "people = 20\n",
    "outcomes = range(0, 365) "
   ]
  },
  {
   "cell_type": "code",
   "execution_count": null,
   "id": "07159d0e",
   "metadata": {},
   "outputs": [],
   "source": [
    "birthdays = np.random.choice(outcomes, size=(attempts, people))\n",
    "birthdays"
   ]
  },
  {
   "cell_type": "code",
   "execution_count": null,
   "id": "11aa48fb",
   "metadata": {},
   "outputs": [],
   "source": [
    "df = pd.DataFrame(birthdays)\n",
    "df.head()"
   ]
  },
  {
   "cell_type": "code",
   "execution_count": null,
   "id": "d1cd08c3",
   "metadata": {},
   "outputs": [],
   "source": [
    "df[\"n_unique\"] = df.nunique(axis=1)\n",
    "df.head()"
   ]
  },
  {
   "cell_type": "code",
   "execution_count": null,
   "id": "2c280753",
   "metadata": {},
   "outputs": [],
   "source": [
    "(df.n_unique != people).mean()"
   ]
  },
  {
   "cell_type": "code",
   "execution_count": null,
   "id": "3375640b",
   "metadata": {},
   "outputs": [],
   "source": [
    "attempts = 100000\n",
    "people = 40\n",
    "outcomes = range(0, 365) "
   ]
  },
  {
   "cell_type": "code",
   "execution_count": null,
   "id": "f0aedc30",
   "metadata": {},
   "outputs": [],
   "source": [
    "birthdays = np.random.choice(outcomes, size=(attempts, people))\n",
    "birthdays"
   ]
  },
  {
   "cell_type": "code",
   "execution_count": null,
   "id": "0b5a3b90",
   "metadata": {},
   "outputs": [],
   "source": [
    "df = pd.DataFrame(birthdays)\n",
    "df.head()"
   ]
  },
  {
   "cell_type": "code",
   "execution_count": null,
   "id": "1e7cdbc3",
   "metadata": {},
   "outputs": [],
   "source": [
    "df[\"n_unique\"] = df.nunique(axis=1)\n",
    "df.head()"
   ]
  },
  {
   "cell_type": "code",
   "execution_count": null,
   "id": "99d66b7b",
   "metadata": {},
   "outputs": [],
   "source": [
    "(df.n_unique != people).mean()"
   ]
  }
 ],
 "metadata": {
  "kernelspec": {
   "display_name": "Python 3 (ipykernel)",
   "language": "python",
   "name": "python3"
  },
  "language_info": {
   "codemirror_mode": {
    "name": "ipython",
    "version": 3
   },
   "file_extension": ".py",
   "mimetype": "text/x-python",
   "name": "python",
   "nbconvert_exporter": "python",
   "pygments_lexer": "ipython3",
   "version": "3.10.9"
  }
 },
 "nbformat": 4,
 "nbformat_minor": 5
}
